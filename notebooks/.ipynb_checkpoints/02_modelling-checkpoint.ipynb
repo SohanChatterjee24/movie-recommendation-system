{
 "cells": [
  {
   "cell_type": "markdown",
   "id": "ba3e74a4-9315-4d04-8edb-b8dc7a3f7383",
   "metadata": {},
   "source": [
    "<span style=\"font-size: 30px\"><b>Recommendation System</b></span>"
   ]
  },
  {
   "cell_type": "code",
   "execution_count": 3,
   "id": "3bab3094-2488-4b0f-8230-7efb21495c08",
   "metadata": {},
   "outputs": [],
   "source": [
    "import pandas as pd\n",
    "from sklearn.feature_extraction.text import TfidfVectorizer\n",
    "from sklearn.metrics.pairwise import cosine_similarity\n",
    "import numpy as np"
   ]
  },
  {
   "cell_type": "code",
   "execution_count": 5,
   "id": "895ad58e-37f7-447c-8330-1be77c89046a",
   "metadata": {},
   "outputs": [],
   "source": [
    "df = pd.read_csv(\"../data/processed_file.csv\")"
   ]
  },
  {
   "cell_type": "markdown",
   "id": "c0f47a02-9abb-4730-b6c9-7dba694af5e6",
   "metadata": {},
   "source": [
    "<b>TF-IDF Vectorization</b>"
   ]
  },
  {
   "cell_type": "code",
   "execution_count": 8,
   "id": "58086844-4ff4-462d-a3f9-2b3305e8ef55",
   "metadata": {},
   "outputs": [],
   "source": [
    "tfidf = TfidfVectorizer(stop_words=\"english\")\n",
    "tfidf_matrix = tfidf.fit_transform(df[\"soup\"])"
   ]
  },
  {
   "cell_type": "markdown",
   "id": "1da9daf1-100a-48fb-9841-b783c3ca4727",
   "metadata": {},
   "source": [
    "<b>Computing Cosine Similarity</b>"
   ]
  },
  {
   "cell_type": "code",
   "execution_count": 11,
   "id": "74029e52-010e-4dc2-a029-e8bcb9c94826",
   "metadata": {},
   "outputs": [],
   "source": [
    "cosine_sim = cosine_similarity(tfidf_matrix, tfidf_matrix)"
   ]
  },
  {
   "cell_type": "markdown",
   "id": "2a8b5f4a-ac7b-4a35-913c-1bf9da960f87",
   "metadata": {},
   "source": [
    "<b>Reverse Map of indices and movie titles</b>"
   ]
  },
  {
   "cell_type": "code",
   "execution_count": 14,
   "id": "aaf13436-f8f1-453e-89e2-99953ac22fb5",
   "metadata": {},
   "outputs": [],
   "source": [
    "indices = pd.Series(df.index, index=df[\"title\"]).drop_duplicates()"
   ]
  },
  {
   "cell_type": "markdown",
   "id": "aac90f9f-3955-4f6a-b90c-b38b2db05190",
   "metadata": {},
   "source": [
    "<b>Recommendation System</b>"
   ]
  },
  {
   "cell_type": "code",
   "execution_count": 19,
   "id": "95e0d8e2-69db-4dbb-b988-cf0b32b9eede",
   "metadata": {},
   "outputs": [],
   "source": [
    "def recommend(title, num_recommendations=10):\n",
    "    if title not in indices:\n",
    "        return f\"Movie {title} not found in dataset.\"\n",
    "    idx = indices[title]\n",
    "    sim_scores = list(enumerate(cosine_sim[idx]))\n",
    "    sim_scores = sorted(sim_scores, key=lambda x: x[1], reverse=True)\n",
    "    sim_scores = sim_scores[1:num_recommendations+1]\n",
    "    movie_indices = [i[0] for i in sim_scores]\n",
    "    return df[\"title\"].iloc[movie_indices].tolist()"
   ]
  },
  {
   "cell_type": "code",
   "execution_count": 21,
   "id": "1536dc47-8873-4690-ad2c-6080d878c6ce",
   "metadata": {},
   "outputs": [
    {
     "name": "stdout",
     "output_type": "stream",
     "text": [
      "Top 10 recommendations for The Dark Knight:\n",
      "1. The Dark Knight Rises\n",
      "2. Batman Returns\n",
      "3. Batman: The Dark Knight Returns, Part 2\n",
      "4. Batman Begins\n",
      "5. Batman\n",
      "6. Batman Forever\n",
      "7. Batman v Superman: Dawn of Justice\n",
      "8. Batman & Robin\n",
      "9. Sherlock Holmes: A Game of Shadows\n",
      "10. Superman\n"
     ]
    }
   ],
   "source": [
    "#example usage\n",
    "movie_name = \"The Dark Knight\"\n",
    "recommendations = recommend(movie_name, 10)\n",
    "\n",
    "print(f\"Top 10 recommendations for {movie_name}:\")\n",
    "for i, rec in enumerate(recommendations, 1):\n",
    "    print(f\"{i}. {rec}\")"
   ]
  }
 ],
 "metadata": {
  "kernelspec": {
   "display_name": "Python [conda env:base] *",
   "language": "python",
   "name": "conda-base-py"
  },
  "language_info": {
   "codemirror_mode": {
    "name": "ipython",
    "version": 3
   },
   "file_extension": ".py",
   "mimetype": "text/x-python",
   "name": "python",
   "nbconvert_exporter": "python",
   "pygments_lexer": "ipython3",
   "version": "3.12.7"
  }
 },
 "nbformat": 4,
 "nbformat_minor": 5
}
